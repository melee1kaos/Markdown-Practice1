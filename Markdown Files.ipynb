{
 "cells": [
  {
   "cell_type": "markdown",
   "id": "2c0fcf64",
   "metadata": {},
   "source": [
    "# Title Header "
   ]
  },
  {
   "cell_type": "markdown",
   "id": "80daa9cc",
   "metadata": {},
   "source": [
    "## Header 2 for major headings "
   ]
  },
  {
   "cell_type": "markdown",
   "id": "046b860a",
   "metadata": {},
   "source": [
    "### Header 3 for subheading"
   ]
  },
  {
   "cell_type": "markdown",
   "id": "82e71422",
   "metadata": {},
   "source": [
    "#### Blockquotes\n",
    ">This is a good day"
   ]
  },
  {
   "cell_type": "markdown",
   "id": "82616817",
   "metadata": {},
   "source": [
    "#### Lists\n",
    "* This is bullet list 1\n",
    "* This is bullet list 2"
   ]
  },
  {
   "cell_type": "markdown",
   "id": "88bcdb0c",
   "metadata": {},
   "source": [
    "#### Ordered list\n",
    "1. This is order1\n",
    "2. This is order2"
   ]
  },
  {
   "cell_type": "markdown",
   "id": "469de56f",
   "metadata": {},
   "source": [
    "#### Bold\n",
    "**This is a bold word**"
   ]
  },
  {
   "cell_type": "markdown",
   "id": "08b91e02",
   "metadata": {},
   "source": [
    "#### Italic\n",
    "*These are italicize word*"
   ]
  },
  {
   "cell_type": "markdown",
   "id": "84e6debf",
   "metadata": {},
   "source": [
    "#### Highlight\n",
    "This code is `Highlighted`"
   ]
  },
  {
   "cell_type": "markdown",
   "id": "2d74dac5",
   "metadata": {},
   "source": [
    "#### Hyperlinks\n",
    "<a href=\"https://www.google.com/\">this link is for google.com</a>\n"
   ]
  },
  {
   "cell_type": "markdown",
   "id": "3fc4c43e",
   "metadata": {},
   "source": [
    "#### Render image\n",
    "![Python Logo](data:image/png;base64,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)"
   ]
  },
  {
   "cell_type": "code",
   "execution_count": null,
   "id": "1f7db8e8",
   "metadata": {},
   "outputs": [],
   "source": []
  }
 ],
 "metadata": {
  "kernelspec": {
   "display_name": "Python 3 (ipykernel)",
   "language": "python",
   "name": "python3"
  },
  "language_info": {
   "codemirror_mode": {
    "name": "ipython",
    "version": 3
   },
   "file_extension": ".py",
   "mimetype": "text/x-python",
   "name": "python",
   "nbconvert_exporter": "python",
   "pygments_lexer": "ipython3",
   "version": "3.11.5"
  }
 },
 "nbformat": 4,
 "nbformat_minor": 5
}
